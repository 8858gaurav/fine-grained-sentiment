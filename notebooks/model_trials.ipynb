{
 "cells": [
  {
   "cell_type": "markdown",
   "metadata": {},
   "source": [
    "# Sentiment Analysis"
   ]
  },
  {
   "cell_type": "code",
   "execution_count": 1,
   "metadata": {},
   "outputs": [],
   "source": [
    "%load_ext autoreload\n",
    "from nltk.sentiment.vader import SentimentIntensityAnalyzer\n",
    "from textblob import TextBlob\n",
    "import fastText\n",
    "import pandas as pd\n",
    "import numpy as np\n",
    "from sklearn.metrics import f1_score, accuracy_score\n",
    "from tqdm import tqdm\n",
    "tqdm.pandas()"
   ]
  },
  {
   "cell_type": "code",
   "execution_count": 2,
   "metadata": {},
   "outputs": [
    {
     "name": "stdout",
     "output_type": "stream",
     "text": [
      "truth       category\n",
      "sentence      object\n",
      "dtype: object\n"
     ]
    },
    {
     "data": {
      "text/html": [
       "<div>\n",
       "<style scoped>\n",
       "    .dataframe tbody tr th:only-of-type {\n",
       "        vertical-align: middle;\n",
       "    }\n",
       "\n",
       "    .dataframe tbody tr th {\n",
       "        vertical-align: top;\n",
       "    }\n",
       "\n",
       "    .dataframe thead th {\n",
       "        text-align: right;\n",
       "    }\n",
       "</style>\n",
       "<table border=\"1\" class=\"dataframe\">\n",
       "  <thead>\n",
       "    <tr style=\"text-align: right;\">\n",
       "      <th></th>\n",
       "      <th>truth</th>\n",
       "      <th>sentence</th>\n",
       "    </tr>\n",
       "  </thead>\n",
       "  <tbody>\n",
       "    <tr>\n",
       "      <th>0</th>\n",
       "      <td>3</td>\n",
       "      <td>Effective but too-tepid biopic</td>\n",
       "    </tr>\n",
       "    <tr>\n",
       "      <th>1</th>\n",
       "      <td>4</td>\n",
       "      <td>If you sometimes like to go to the movies to h...</td>\n",
       "    </tr>\n",
       "    <tr>\n",
       "      <th>2</th>\n",
       "      <td>5</td>\n",
       "      <td>Emerges as something rare , an issue movie tha...</td>\n",
       "    </tr>\n",
       "    <tr>\n",
       "      <th>3</th>\n",
       "      <td>3</td>\n",
       "      <td>The film provides some great insight into the ...</td>\n",
       "    </tr>\n",
       "    <tr>\n",
       "      <th>4</th>\n",
       "      <td>5</td>\n",
       "      <td>Offers that rare combination of entertainment ...</td>\n",
       "    </tr>\n",
       "  </tbody>\n",
       "</table>\n",
       "</div>"
      ],
      "text/plain": [
       "  truth                                           sentence\n",
       "0     3                     Effective but too-tepid biopic\n",
       "1     4  If you sometimes like to go to the movies to h...\n",
       "2     5  Emerges as something rare , an issue movie tha...\n",
       "3     3  The film provides some great insight into the ...\n",
       "4     5  Offers that rare combination of entertainment ..."
      ]
     },
     "execution_count": 2,
     "metadata": {},
     "output_type": "execute_result"
    }
   ],
   "source": [
    "# Read test data\n",
    "df = pd.read_csv('data/sst/sst_test.txt', sep='\\t', header=None,\n",
    "                   names=['truth', 'sentence'],\n",
    "                  )\n",
    "df['truth'] = df['truth'].str.replace('__label__', '')\n",
    "df['truth'] = df['truth'].astype(int).astype('category')\n",
    "print(df.dtypes)\n",
    "df.head()"
   ]
  },
  {
   "cell_type": "code",
   "execution_count": null,
   "metadata": {},
   "outputs": [],
   "source": []
  },
  {
   "cell_type": "code",
   "execution_count": 3,
   "metadata": {},
   "outputs": [],
   "source": [
    "def print_accuracy(df, pred_column):\n",
    "    \"Print f1 score and accuracy after making predictions\"\n",
    "    f1_macro = f1_score(df['truth'], df[pred_column], average='macro')\n",
    "    acc = accuracy_score(df['truth'], df[pred_column])*100\n",
    "    return f1_macro, acc"
   ]
  },
  {
   "cell_type": "markdown",
   "metadata": {},
   "source": [
    "## 1 - TextBlob"
   ]
  },
  {
   "cell_type": "code",
   "execution_count": 4,
   "metadata": {},
   "outputs": [],
   "source": [
    "def textblob_score(sentence):\n",
    "    return TextBlob(sentence).sentiment.polarity"
   ]
  },
  {
   "cell_type": "code",
   "execution_count": 5,
   "metadata": {},
   "outputs": [
    {
     "data": {
      "text/html": [
       "<div>\n",
       "<style scoped>\n",
       "    .dataframe tbody tr th:only-of-type {\n",
       "        vertical-align: middle;\n",
       "    }\n",
       "\n",
       "    .dataframe tbody tr th {\n",
       "        vertical-align: top;\n",
       "    }\n",
       "\n",
       "    .dataframe thead th {\n",
       "        text-align: right;\n",
       "    }\n",
       "</style>\n",
       "<table border=\"1\" class=\"dataframe\">\n",
       "  <thead>\n",
       "    <tr style=\"text-align: right;\">\n",
       "      <th></th>\n",
       "      <th>truth</th>\n",
       "      <th>sentence</th>\n",
       "      <th>textblob_pred</th>\n",
       "    </tr>\n",
       "  </thead>\n",
       "  <tbody>\n",
       "    <tr>\n",
       "      <th>0</th>\n",
       "      <td>3</td>\n",
       "      <td>Effective but too-tepid biopic</td>\n",
       "      <td>4</td>\n",
       "    </tr>\n",
       "    <tr>\n",
       "      <th>1</th>\n",
       "      <td>4</td>\n",
       "      <td>If you sometimes like to go to the movies to h...</td>\n",
       "      <td>4</td>\n",
       "    </tr>\n",
       "    <tr>\n",
       "      <th>2</th>\n",
       "      <td>5</td>\n",
       "      <td>Emerges as something rare , an issue movie tha...</td>\n",
       "      <td>4</td>\n",
       "    </tr>\n",
       "    <tr>\n",
       "      <th>3</th>\n",
       "      <td>3</td>\n",
       "      <td>The film provides some great insight into the ...</td>\n",
       "      <td>4</td>\n",
       "    </tr>\n",
       "    <tr>\n",
       "      <th>4</th>\n",
       "      <td>5</td>\n",
       "      <td>Offers that rare combination of entertainment ...</td>\n",
       "      <td>3</td>\n",
       "    </tr>\n",
       "  </tbody>\n",
       "</table>\n",
       "</div>"
      ],
      "text/plain": [
       "  truth                                           sentence textblob_pred\n",
       "0     3                     Effective but too-tepid biopic             4\n",
       "1     4  If you sometimes like to go to the movies to h...             4\n",
       "2     5  Emerges as something rare , an issue movie tha...             4\n",
       "3     3  The film provides some great insight into the ...             4\n",
       "4     5  Offers that rare combination of entertainment ...             3"
      ]
     },
     "execution_count": 5,
     "metadata": {},
     "output_type": "execute_result"
    }
   ],
   "source": [
    "# Convert textblob sentiment score\n",
    "df['textblob_score'] = df['sentence'].apply(textblob_score)\n",
    "# Convert float score to category based on binning\n",
    "df['textblob_pred'] = pd.cut(df['textblob_score'], bins=5, labels=[1, 2, 3, 4, 5])\n",
    "df = df.drop('textblob_score', axis=1)\n",
    "df.head()"
   ]
  },
  {
   "cell_type": "code",
   "execution_count": 6,
   "metadata": {},
   "outputs": [
    {
     "name": "stdout",
     "output_type": "stream",
     "text": [
      "Macro F1-score: 0.2468141571266554\n",
      "Accuracy: 28.3710407239819\n"
     ]
    }
   ],
   "source": [
    "# Get model accuracy and f1 score\n",
    "acc = print_accuracy(df, 'textblob_pred')\n",
    "print(\"Macro F1-score: {}\\nAccuracy: {}\".format(acc[0], acc[1]))"
   ]
  },
  {
   "cell_type": "markdown",
   "metadata": {},
   "source": [
    "## 2 - VADER"
   ]
  },
  {
   "cell_type": "code",
   "execution_count": 7,
   "metadata": {},
   "outputs": [],
   "source": [
    "vader = SentimentIntensityAnalyzer()\n",
    "def score_vader(sentence, vader):\n",
    "    return vader.polarity_scores(sentence)['compound']"
   ]
  },
  {
   "cell_type": "code",
   "execution_count": 8,
   "metadata": {},
   "outputs": [
    {
     "data": {
      "text/html": [
       "<div>\n",
       "<style scoped>\n",
       "    .dataframe tbody tr th:only-of-type {\n",
       "        vertical-align: middle;\n",
       "    }\n",
       "\n",
       "    .dataframe tbody tr th {\n",
       "        vertical-align: top;\n",
       "    }\n",
       "\n",
       "    .dataframe thead th {\n",
       "        text-align: right;\n",
       "    }\n",
       "</style>\n",
       "<table border=\"1\" class=\"dataframe\">\n",
       "  <thead>\n",
       "    <tr style=\"text-align: right;\">\n",
       "      <th></th>\n",
       "      <th>truth</th>\n",
       "      <th>sentence</th>\n",
       "      <th>textblob_pred</th>\n",
       "      <th>vader_pred</th>\n",
       "    </tr>\n",
       "  </thead>\n",
       "  <tbody>\n",
       "    <tr>\n",
       "      <th>0</th>\n",
       "      <td>3</td>\n",
       "      <td>Effective but too-tepid biopic</td>\n",
       "      <td>4</td>\n",
       "      <td>4</td>\n",
       "    </tr>\n",
       "    <tr>\n",
       "      <th>1</th>\n",
       "      <td>4</td>\n",
       "      <td>If you sometimes like to go to the movies to h...</td>\n",
       "      <td>4</td>\n",
       "      <td>5</td>\n",
       "    </tr>\n",
       "    <tr>\n",
       "      <th>2</th>\n",
       "      <td>5</td>\n",
       "      <td>Emerges as something rare , an issue movie tha...</td>\n",
       "      <td>4</td>\n",
       "      <td>5</td>\n",
       "    </tr>\n",
       "    <tr>\n",
       "      <th>3</th>\n",
       "      <td>3</td>\n",
       "      <td>The film provides some great insight into the ...</td>\n",
       "      <td>4</td>\n",
       "      <td>5</td>\n",
       "    </tr>\n",
       "    <tr>\n",
       "      <th>4</th>\n",
       "      <td>5</td>\n",
       "      <td>Offers that rare combination of entertainment ...</td>\n",
       "      <td>3</td>\n",
       "      <td>4</td>\n",
       "    </tr>\n",
       "  </tbody>\n",
       "</table>\n",
       "</div>"
      ],
      "text/plain": [
       "  truth                                           sentence textblob_pred  \\\n",
       "0     3                     Effective but too-tepid biopic             4   \n",
       "1     4  If you sometimes like to go to the movies to h...             4   \n",
       "2     5  Emerges as something rare , an issue movie tha...             4   \n",
       "3     3  The film provides some great insight into the ...             4   \n",
       "4     5  Offers that rare combination of entertainment ...             3   \n",
       "\n",
       "  vader_pred  \n",
       "0          4  \n",
       "1          5  \n",
       "2          5  \n",
       "3          5  \n",
       "4          4  "
      ]
     },
     "execution_count": 8,
     "metadata": {},
     "output_type": "execute_result"
    }
   ],
   "source": [
    "# Calculate Vader sentiment score\n",
    "df['vader_score'] = df['sentence'].apply(lambda x: score_vader(x, vader))\n",
    "# Convert float score to category based on binning\n",
    "df['vader_pred'] = pd.cut(df['vader_score'], bins=5, labels=[1, 2, 3, 4, 5])\n",
    "df = df.drop('vader_score', axis=1)\n",
    "df.head()"
   ]
  },
  {
   "cell_type": "code",
   "execution_count": 9,
   "metadata": {},
   "outputs": [
    {
     "name": "stdout",
     "output_type": "stream",
     "text": [
      "Macro F1-score: 0.31297326018199634\n",
      "Accuracy: 31.538461538461537\n"
     ]
    }
   ],
   "source": [
    "# Get model accuracy and f1 score\n",
    "acc = print_accuracy(df, 'vader_pred')\n",
    "print(\"Macro F1-score: {}\\nAccuracy: {}\".format(acc[0], acc[1]))"
   ]
  },
  {
   "cell_type": "markdown",
   "metadata": {},
   "source": [
    "## 3 - FastText"
   ]
  },
  {
   "cell_type": "markdown",
   "metadata": {},
   "source": [
    "### 3.1 - Pretrained Yelp model"
   ]
  },
  {
   "cell_type": "code",
   "execution_count": 10,
   "metadata": {},
   "outputs": [],
   "source": [
    "# Load fastText yelp review (5-class) trained model\n",
    "ft_model = fastText.load_model('models/fasttext/fasttext_yelp_review_full.ftz')"
   ]
  },
  {
   "cell_type": "code",
   "execution_count": 11,
   "metadata": {},
   "outputs": [],
   "source": [
    "def fasttext_score(sentence):\n",
    "    labels, probabilities = ft_model.predict(sentence, 1) # Predict just the top label, hence 1\n",
    "    pred = int(labels[0][-1])\n",
    "    return pred"
   ]
  },
  {
   "cell_type": "code",
   "execution_count": 12,
   "metadata": {},
   "outputs": [
    {
     "data": {
      "text/html": [
       "<div>\n",
       "<style scoped>\n",
       "    .dataframe tbody tr th:only-of-type {\n",
       "        vertical-align: middle;\n",
       "    }\n",
       "\n",
       "    .dataframe tbody tr th {\n",
       "        vertical-align: top;\n",
       "    }\n",
       "\n",
       "    .dataframe thead th {\n",
       "        text-align: right;\n",
       "    }\n",
       "</style>\n",
       "<table border=\"1\" class=\"dataframe\">\n",
       "  <thead>\n",
       "    <tr style=\"text-align: right;\">\n",
       "      <th></th>\n",
       "      <th>truth</th>\n",
       "      <th>sentence</th>\n",
       "      <th>textblob_pred</th>\n",
       "      <th>vader_pred</th>\n",
       "      <th>fasttext_pred</th>\n",
       "    </tr>\n",
       "  </thead>\n",
       "  <tbody>\n",
       "    <tr>\n",
       "      <th>0</th>\n",
       "      <td>3</td>\n",
       "      <td>Effective but too-tepid biopic</td>\n",
       "      <td>4</td>\n",
       "      <td>4</td>\n",
       "      <td>3</td>\n",
       "    </tr>\n",
       "    <tr>\n",
       "      <th>1</th>\n",
       "      <td>4</td>\n",
       "      <td>If you sometimes like to go to the movies to h...</td>\n",
       "      <td>4</td>\n",
       "      <td>5</td>\n",
       "      <td>4</td>\n",
       "    </tr>\n",
       "    <tr>\n",
       "      <th>2</th>\n",
       "      <td>5</td>\n",
       "      <td>Emerges as something rare , an issue movie tha...</td>\n",
       "      <td>4</td>\n",
       "      <td>5</td>\n",
       "      <td>5</td>\n",
       "    </tr>\n",
       "    <tr>\n",
       "      <th>3</th>\n",
       "      <td>3</td>\n",
       "      <td>The film provides some great insight into the ...</td>\n",
       "      <td>4</td>\n",
       "      <td>5</td>\n",
       "      <td>5</td>\n",
       "    </tr>\n",
       "    <tr>\n",
       "      <th>4</th>\n",
       "      <td>5</td>\n",
       "      <td>Offers that rare combination of entertainment ...</td>\n",
       "      <td>3</td>\n",
       "      <td>4</td>\n",
       "      <td>5</td>\n",
       "    </tr>\n",
       "  </tbody>\n",
       "</table>\n",
       "</div>"
      ],
      "text/plain": [
       "  truth                                           sentence textblob_pred  \\\n",
       "0     3                     Effective but too-tepid biopic             4   \n",
       "1     4  If you sometimes like to go to the movies to h...             4   \n",
       "2     5  Emerges as something rare , an issue movie tha...             4   \n",
       "3     3  The film provides some great insight into the ...             4   \n",
       "4     5  Offers that rare combination of entertainment ...             3   \n",
       "\n",
       "  vader_pred  fasttext_pred  \n",
       "0          4              3  \n",
       "1          5              4  \n",
       "2          5              5  \n",
       "3          5              5  \n",
       "4          4              5  "
      ]
     },
     "execution_count": 12,
     "metadata": {},
     "output_type": "execute_result"
    }
   ],
   "source": [
    "df['fasttext_pred'] = df['sentence'].str.lower().apply(fasttext_score)\n",
    "df.head()"
   ]
  },
  {
   "cell_type": "code",
   "execution_count": 13,
   "metadata": {},
   "outputs": [
    {
     "name": "stdout",
     "output_type": "stream",
     "text": [
      "Macro F1-score: 0.3327246571108574\n",
      "Accuracy: 33.167420814479634\n"
     ]
    }
   ],
   "source": [
    "# Get model accuracy and f1 score\n",
    "acc = print_accuracy(df, 'fasttext_pred')\n",
    "print(\"Macro F1-score: {}\\nAccuracy: {}\".format(acc[0], acc[1]))"
   ]
  },
  {
   "cell_type": "markdown",
   "metadata": {},
   "source": [
    "### 3.2 - Train FastText on SST data"
   ]
  },
  {
   "cell_type": "code",
   "execution_count": 14,
   "metadata": {},
   "outputs": [
    {
     "name": "stdout",
     "output_type": "stream",
     "text": [
      "Read 0M words\n",
      "Number of words:  18279\n",
      "Number of labels: 5\n",
      "Progress: 100.0%  words/sec/thread: 873255  lr: 0.000000  loss: 0.060957  eta: 0h0m .2%  words/sec/thread: 875780  lr: 0.464096  loss: 0.789396  eta: 0h0m m 14.0%  words/sec/thread: 877877  lr: 0.429843  loss: 0.416243  eta: 0h0m 0h0m m 19.2%  words/sec/thread: 877510  lr: 0.404039  loss: 0.311001  eta: 0h0m 20.9%  words/sec/thread: 877575  lr: 0.395529  loss: 0.293991  eta: 0h0m 26.0%  words/sec/thread: 874859  lr: 0.369924  loss: 0.229703  eta: 0h0m 0m 0.192080  eta: 0h0m %  words/sec/thread: 873911  lr: 0.345752  loss: 0.178180  eta: 0h0m 33.8%  words/sec/thread: 870264  lr: 0.330814  loss: 0.158771  eta: 0h0m 872976  lr: 0.322727  loss: 0.156234  eta: 0h0m 38.6%  words/sec/thread: 869093  lr: 0.307001  loss: 0.146085  eta: 0h0m 39.8%  words/sec/thread: 869592  lr: 0.300972  loss: 0.141149  eta: 0h0m 0m   words/sec/thread: 867860  lr: 0.282846  loss: 0.127444  eta: 0h0m 47.8%  words/sec/thread: 867311  lr: 0.261128  loss: 0.117493  eta: 0h0m %  words/sec/thread: 869982  lr: 0.219348  loss: 0.103415  eta: 0h0m 871957  lr: 0.203174  loss: 0.098247  eta: 0h0m %  words/sec/thread: 871967  lr: 0.187762  loss: 0.093566  eta: 0h0m %  words/sec/thread: 872060  lr: 0.179071  loss: 0.091397  eta: 0h0m 65.8%  words/sec/thread: 871515  lr: 0.170787  loss: 0.088864  eta: 0h0m %  words/sec/thread: 869670  lr: 0.101300  loss: 0.074434  eta: 0h0m %  words/sec/thread: 870922  lr: 0.069935  loss: 0.069930  eta: 0h0m 87.6%  words/sec/thread: 871039  lr: 0.062134  loss: 0.068864  eta: 0h0m 0.065852  eta: 0h0m   loss: 0.064801  eta: 0h0m 871401  lr: 0.022731  loss: 0.063085  eta: 0h0m %  words/sec/thread: 872606  lr: 0.012433  loss: 0.062032  eta: 0h0m %  words/sec/thread: 873345  lr: 0.004059  loss: 0.061156  eta: 0h0m \n"
     ]
    }
   ],
   "source": [
    "# We train using fastText's command line utility using the below command\n",
    "!~/fastText-0.1.0/fasttext supervised -input data/sst/sst_train.txt -output models/sst -wordNgrams 3 -lr 0.5 -epoch 100"
   ]
  },
  {
   "cell_type": "code",
   "execution_count": 15,
   "metadata": {},
   "outputs": [
    {
     "name": "stdout",
     "output_type": "stream",
     "text": [
      "Macro F1-score: 0.37359276004432385\n",
      "Accuracy: 39.95475113122172\n"
     ]
    }
   ],
   "source": [
    "ft_model = fastText.load_model('models/fasttext/sst.bin')\n",
    "df['fasttext_pred'] = df['sentence'].str.lower().apply(fasttext_score)\n",
    "# Get model accuracy and f1 score\n",
    "acc = print_accuracy(df, 'fasttext_pred')\n",
    "print(\"Macro F1-score: {}\\nAccuracy: {}\".format(acc[0], acc[1]))"
   ]
  }
 ],
 "metadata": {
  "kernelspec": {
   "display_name": "Python 3",
   "language": "python",
   "name": "python3"
  },
  "language_info": {
   "codemirror_mode": {
    "name": "ipython",
    "version": 3
   },
   "file_extension": ".py",
   "mimetype": "text/x-python",
   "name": "python",
   "nbconvert_exporter": "python",
   "pygments_lexer": "ipython3",
   "version": "3.6.7"
  }
 },
 "nbformat": 4,
 "nbformat_minor": 2
}
