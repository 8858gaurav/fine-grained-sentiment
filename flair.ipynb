{
 "cells": [
  {
   "cell_type": "markdown",
   "metadata": {},
   "source": [
    "# Sentiment Analysis using Flair"
   ]
  },
  {
   "cell_type": "code",
   "execution_count": null,
   "metadata": {},
   "outputs": [],
   "source": [
    "from flair.datasets import ClassificationCorpus\n",
    "from flair.embeddings import WordEmbeddings, FlairEmbeddings, DocumentRNNEmbeddings, ELMoEmbeddings\n",
    "from flair.models import TextClassifier\n",
    "from flair.trainers import ModelTrainer\n",
    "from flair.training_utils import EvaluationMetric\n",
    "from flair.visual.training_curves import Plotter\n",
    "from pathlib import Path"
   ]
  },
  {
   "cell_type": "code",
   "execution_count": null,
   "metadata": {},
   "outputs": [],
   "source": [
    "# Specify path to train and test data\n",
    "file_path = Path('./') / 'data/sst'\n",
    "\n",
    "train = 'sst_train.txt'\n",
    "test = 'sst_test.txt'\n",
    "dev = 'sst_dev.txt'\n",
    "\n",
    "# Load corpus\n",
    "corpus = ClassificationCorpus(file_path, \n",
    "                              train_file=train, \n",
    "                              dev_file=dev, \n",
    "                              test_file=test,\n",
    "                             )\n",
    "# Create label dictionary\n",
    "label_dict = corpus.make_label_dictionary()\n",
    "# Specify word embeddings to use (can combine multiple types)\n",
    "word_embeddings = [ELMoEmbeddings('original'),\n",
    "#     WordEmbeddings('glove'),\n",
    "                   FlairEmbeddings('news-forward'), \n",
    "                   FlairEmbeddings('news-backward')\n",
    "                  ]\n",
    "# Initialize document embedding by passing list of word embeddings\n",
    "# Can choose between many RNN types (GRU by default, to change use rnn_type parameter)\n",
    "document_embeddings = DocumentRNNEmbeddings(word_embeddings, hidden_size=512, \n",
    "                                            reproject_words=True, reproject_words_dimension=256)\n",
    "\n",
    "# Define classifier\n",
    "classifier = TextClassifier(document_embeddings, \n",
    "                            label_dictionary=label_dict, \n",
    "                            multi_label=False)\n",
    "trainer = ModelTrainer(classifier, corpus)\n",
    "\n",
    "# Begin training\n",
    "trainer.train(file_path,\n",
    "              EvaluationMetric.MACRO_F1_SCORE,\n",
    "              max_epochs=1,\n",
    "              learning_rate=0.1,\n",
    "              checkpoint=True\n",
    "             )\n",
    "# Plot curves\n",
    "plotter = Plotter()\n",
    "plotter.plot_training_curves(file_path / 'loss.tsv')\n",
    "plotter.plot_weights(file_path / 'weights.txt')"
   ]
  }
 ],
 "metadata": {
  "kernelspec": {
   "display_name": "Python 3",
   "language": "python",
   "name": "python3"
  },
  "language_info": {
   "codemirror_mode": {
    "name": "ipython",
    "version": 3
   },
   "file_extension": ".py",
   "mimetype": "text/x-python",
   "name": "python",
   "nbconvert_exporter": "python",
   "pygments_lexer": "ipython3",
   "version": "3.6.8"
  }
 },
 "nbformat": 4,
 "nbformat_minor": 2
}
